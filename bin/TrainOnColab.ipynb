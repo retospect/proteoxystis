{
  "nbformat": 4,
  "nbformat_minor": 0,
  "metadata": {
    "colab": {
      "provenance": [],
      "machine_shape": "hm",
      "gpuType": "V100"
    },
    "kernelspec": {
      "name": "python3",
      "display_name": "Python 3"
    },
    "language_info": {
      "name": "python"
    },
    "accelerator": "GPU",
    "gpuClass": "standard"
  },
  "cells": [
    {
      "cell_type": "code",
      "execution_count": 12,
      "metadata": {
        "colab": {
          "base_uri": "https://localhost:8080/"
        },
        "id": "WRGnpLVl46ie",
        "outputId": "affbe1b2-96fe-4c35-a962-3d665d18d4ca"
      },
      "outputs": [
        {
          "output_type": "stream",
          "name": "stdout",
          "text": [
            "Error: Failed to call git rev-parse --git-dir: exit status 128 \n",
            "Git LFS initialized.\n",
            "fatal: destination path 'proteoxystis' already exists and is not an empty directory.\n",
            "/content/proteoxystis/bin\n"
          ]
        }
      ],
      "source": [
        "# Get repo, change to bin directory, \n",
        "!git lfs install\n",
        "!git clone https://github.com/retospect/proteoxystis.git\n",
        "%cd proteoxystis/bin\n",
        "# install dependencies\n",
        "!pip install -r requirements.txt\n",
        "# Prep data\n",
        "!python3 ./pickelize.py"
      ]
    },
    {
      "cell_type": "code",
      "source": [
        "# Ask for more memory\n",
        "a = []\n",
        "while(1):\n",
        "    a.append('1')"
      ],
      "metadata": {
        "id": "PhIQxoFZ8zGf"
      },
      "execution_count": null,
      "outputs": []
    },
    {
      "cell_type": "code",
      "source": [
        "# Train on the data\n",
        "!python3 ./train.py --new"
      ],
      "metadata": {
        "colab": {
          "base_uri": "https://localhost:8080/"
        },
        "id": "hsfIZub07OiM",
        "outputId": "315bbe65-df7d-4c84-f9f3-5bddb3ead00a"
      },
      "execution_count": 21,
      "outputs": [
        {
          "output_type": "stream",
          "name": "stdout",
          "text": [
            "Loading data...done\n",
            "seqs.shape:    (53861, 86688)\n",
            "output.shape:  (53861, 754)\n",
            "Setting seeds to 42 ...done\n",
            "Using CUDA\n",
            "Setting up new model (will overwrite the old if it exists)...done\n",
            "Sending data to device...^C\n"
          ]
        }
      ]
    }
  ]
}