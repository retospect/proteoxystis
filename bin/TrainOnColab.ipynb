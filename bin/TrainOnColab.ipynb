{
  "cells": [
    {
      "cell_type": "code",
      "execution_count": 6,
      "metadata": {
        "colab": {
          "base_uri": "https://localhost:8080/"
        },
        "id": "WRGnpLVl46ie",
        "outputId": "3f600067-718b-440d-b032-38ce78b25356"
      },
      "outputs": [
        {
          "output_type": "stream",
          "name": "stdout",
          "text": [
            "Error: Failed to call git rev-parse --git-dir: exit status 128 \n",
            "Git LFS initialized.\n",
            "fatal: destination path 'proteoxystis' already exists and is not an empty directory.\n",
            "/root\n",
            "/content/proteoxystis/bin\n",
            "Branch '16bitfloat' set up to track remote branch '16bitfloat' from 'origin'.\n",
            "Switched to a new branch '16bitfloat'\n",
            "Looking in indexes: https://pypi.org/simple, https://us-python.pkg.dev/colab-wheels/public/simple/\n",
            "Requirement already satisfied: pypdb in /usr/local/lib/python3.10/dist-packages (from -r requirements.txt (line 1)) (2.2)\n",
            "Requirement already satisfied: toml in /usr/local/lib/python3.10/dist-packages (from -r requirements.txt (line 2)) (0.10.2)\n",
            "Requirement already satisfied: tqdm in /usr/local/lib/python3.10/dist-packages (from -r requirements.txt (line 3)) (4.65.0)\n",
            "Requirement already satisfied: nose2 in /usr/local/lib/python3.10/dist-packages (from -r requirements.txt (line 4)) (0.13.0)\n",
            "Requirement already satisfied: requests in /usr/local/lib/python3.10/dist-packages (from pypdb->-r requirements.txt (line 1)) (2.27.1)\n",
            "Requirement already satisfied: urllib3<1.27,>=1.21.1 in /usr/local/lib/python3.10/dist-packages (from requests->pypdb->-r requirements.txt (line 1)) (1.26.15)\n",
            "Requirement already satisfied: certifi>=2017.4.17 in /usr/local/lib/python3.10/dist-packages (from requests->pypdb->-r requirements.txt (line 1)) (2022.12.7)\n",
            "Requirement already satisfied: charset-normalizer~=2.0.0 in /usr/local/lib/python3.10/dist-packages (from requests->pypdb->-r requirements.txt (line 1)) (2.0.12)\n",
            "Requirement already satisfied: idna<4,>=2.5 in /usr/local/lib/python3.10/dist-packages (from requests->pypdb->-r requirements.txt (line 1)) (3.4)\n"
          ]
        }
      ],
      "source": [
        "# Get an A100 high memory instance Premium +\n",
        "# Get repo, change to bin directory, \n",
        "!git lfs install\n",
        "!cd /content\n",
        "!git clone https://github.com/retospect/proteoxystis.git\n",
        "%cd ~\n",
        "%cd /content/proteoxystis/bin\n",
        "%pwd\n",
        "!git checkout 16bitfloat\n",
        "# install dependencies\n",
        "!pip install -r requirements.txt"
      ]
    },
    {
      "cell_type": "code",
      "source": [
        "# Prep data if needed.\n",
        "!python3 ./pickelize.py"
      ],
      "metadata": {
        "colab": {
          "base_uri": "https://localhost:8080/"
        },
        "id": "G0gur6BILsgL",
        "outputId": "06d8b9f4-8d43-4c4a-990f-c884a6bd3be5"
      },
      "execution_count": 9,
      "outputs": [
        {
          "output_type": "stream",
          "name": "stdout",
          "text": [
            "Reading toml file\n",
            "Removing stupid data\n",
            " 99% 70287/70896 [00:00<00:00, 95368.57it/s] \n",
            "after removing stupid data, this many remain  70287\n",
            "Input array size (pdb x one-hot sequence):  (70287, 4128, 21)\n",
            "Filling sequence array\n",
            "100% 70287/70287 [00:10<00:00, 6829.99it/s]\n",
            "Normalizing output values\n",
            "  5% 17/349 [00:00<00:15, 21.05it/s]/content/proteoxystis/bin/./pickelize.py:114: RuntimeWarning: overflow encountered in true_divide\n",
            "  values = values / factor\n",
            "/content/proteoxystis/bin/./pickelize.py:116: RuntimeWarning: invalid value encountered in subtract\n",
            "  values = values - offset\n",
            "100% 349/349 [00:17<00:00, 20.43it/s]\n",
            "Output array size (pdb x one-hot output):  (70287, 698)\n",
            "Filling output array\n",
            "100% 70287/70287 [00:15<00:00, 4513.38it/s]\n",
            "Reading test data from test.toml\n",
            "Separating test data from training data\n",
            "100% 70287/70287 [00:09<00:00, 7692.02it/s]\n",
            "Test data size:  (17571, 4128, 21)\n",
            "Training data size:  (52716, 4128, 21)\n",
            "Pickeling data\n"
          ]
        }
      ]
    },
    {
      "cell_type": "markdown",
      "metadata": {
        "id": "bTf4Z-9jHu4u"
      },
      "source": [
        "From class example:\n"
      ]
    },
    {
      "cell_type": "code",
      "execution_count": 10,
      "metadata": {
        "colab": {
          "base_uri": "https://localhost:8080/"
        },
        "id": "1FEwUYyVMULj",
        "outputId": "2063ea71-32ec-4ce3-abda-804599b2de61"
      },
      "outputs": [
        {
          "output_type": "stream",
          "name": "stdout",
          "text": [
            "/content/proteoxystis/bin\n",
            "/content/proteoxystis/bin\n",
            "data\t\t\tpdb-few.toml\t      tests\n",
            "datawrangling.md\tpdb-few.toml.gz       test.toml\n",
            "encoding.py\t\tpdb-parsing-bugs.txt  tidy.py\n",
            "extract.py\t\tpdb.toml.gz\t      training_data.pickle\n",
            "interesting_pdbids.txt\tpickelize.py\t      training.toml\n",
            "model\t\t\trequirements.txt      TrainOnColab.ipynb\n",
            "pdb.err.gz\t\tseq-exp.ipynb\t      train.py\n",
            "Loading data...done\n"
          ]
        }
      ],
      "source": [
        "%cd /content/proteoxystis/bin\n",
        "!pwd\n",
        "!ls\n",
        "# Load data:\n",
        "import pickle\n",
        "\n",
        "print(\"Loading data...\", end=\"\", flush=True)\n",
        "# gzip the pickle is possible but way slow\n",
        "with open(\"training_data.pickle\", \"rb\") as f:\n",
        "    (\n",
        "        metadata,\n",
        "        seqs,\n",
        "        output,\n",
        "        seqs_test,\n",
        "        output_test,\n",
        "        relevant_train,\n",
        "        relevant_test,\n",
        "    ) = pickle.load(f)\n",
        "print(\"done\")\n",
        "\n"
      ]
    },
    {
      "cell_type": "code",
      "execution_count": 56,
      "metadata": {
        "id": "5QD6hiMfJuaV"
      },
      "outputs": [],
      "source": [
        "import torch\n",
        "import torch.nn as nn\n",
        "\n",
        "# Set the random seed for reproducible results\n",
        "torch.manual_seed(1)\n",
        "\n",
        "class SimpleRNN(nn.Module):\n",
        "    def __init__(self, input_size, hidden_size, output_size):\n",
        "        # This just calls the base class constructor\n",
        "        super().__init__()\n",
        "        # Neural network layers assigned as attributes of a Module subclass\n",
        "        # have their parameters registered for training automatically.\n",
        "        self.rnn = torch.nn.RNN(input_size, hidden_size, nonlinearity='relu', batch_first=True)\n",
        "        self.linear = torch.nn.Linear(hidden_size, output_size)\n",
        "\n",
        "    def forward(self, x):\n",
        "        # The RNN also returns its hidden state but we don't use it.\n",
        "        # While the RNN can also take a hidden state as input, the RNN\n",
        "        # gets passed a hidden state initialized with zeros by default.\n",
        "        h = self.rnn(x)[0]\n",
        "        x = self.linear(h)\n",
        "        return x\n",
        "\n",
        "class SimpleLSTM(nn.Module):\n",
        "    def __init__(self, input_size, llm_layers, llm_dropout, linear_hidden_size, n_linear, linear_dropout, output_size):\n",
        "        super().__init__()\n",
        "        self.lstm = torch.nn.LSTM(input_size, linear_hidden_size, num_layers=llm_layers, batch_first=True,dropout=llm_dropout)\n",
        "        self.linear = []\n",
        "        self.softmax = []\n",
        "        self.dropout = []\n",
        "        for i in range(n_linear):\n",
        "          self.linear.append(torch.nn.Linear(linear_hidden_size,linear_hidden_size))\n",
        "          self.softmax.append(torch.nn.Softmax())\n",
        "          self.dropout.append(torch.nn.Dropout(linear_dropout))\n",
        "\n",
        "       \n",
        "        self.linearEnd = torch.nn.Linear(linear_hidden_size, output_size)\n",
        "        print(\"Hidden size\", hidden_size)\n",
        "        print(\"output size\", output_size)\n",
        "        print(\"input size\", input_size)\n",
        "    def to(self, device):\n",
        "      super().to(device)\n",
        "      for l, s, d in zip(self.linear, self.softmax, self.dropout):\n",
        "        l.to(device)\n",
        "        s.to(device)\n",
        "        d.to(device)\n",
        "    def forward(self, x):\n",
        "        x = self.lstm(x)[0]\n",
        "        for l, s, d in zip(self.linear, self.softmax, self.dropout):\n",
        "          x = l(x)\n",
        "          x = s(x)\n",
        "          x = d(x)\n",
        "        x = self.linearEnd(x)\n",
        "        return x\n",
        "    \n",
        "    def get_states_across_time(self, x):\n",
        "        h_c = None\n",
        "        h_list, c_list = list(), list()\n",
        "        with torch.no_grad():\n",
        "            for t in range(x.size(1)):\n",
        "                h_c = self.lstm(x[:, [t], :], h_c)[1]\n",
        "                h_list.append(h_c[0])\n",
        "                c_list.append(h_c[1])\n",
        "            h = torch.cat(h_list)\n",
        "            c = torch.cat(c_list)\n",
        "        return h, c"
      ]
    },
    {
      "cell_type": "code",
      "execution_count": 57,
      "metadata": {
        "id": "qo-b5EJEJxnc"
      },
      "outputs": [],
      "source": [
        "def train(model, train_data_gen, criterion, optimizer, device):\n",
        "    # Set the model to training mode. This will turn on layers that would\n",
        "    # otherwise behave differently during evaluation, such as dropout.\n",
        "    model.train()\n",
        "\n",
        "    # Store the number of sequences that were classified correctly\n",
        "    num_correct = 0\n",
        "\n",
        "    # Iterate over every batch of sequences. Note that the length of a data generator\n",
        "    # is defined as the number of batches required to produce a total of roughly 1000\n",
        "    # sequences given a batch size.\n",
        "    for batch_idx in range(len(train_data_gen)):\n",
        "        if batch_idx%25 ==0:\n",
        "          print(\",\", end=\"\", flush=True)\n",
        "        # Request a batch of sequences and class labels, convert them into tensors\n",
        "        # of the correct type, and then send them to the appropriate device.\n",
        "        data, target, mask = train_data_gen[batch_idx]\n",
        "        data, target, mask = torch.from_numpy(data).float().to(device), torch.from_numpy(target).float().to(device), torch.from_numpy(mask).float().to(device)\n",
        "\n",
        "        # Perform the forward pass of the model\n",
        "        output = model(data)  # Step ①\n",
        "        \n",
        "        # Pick only the output corresponding to last sequence element (input is pre padded)\n",
        "        output = output[:, -1, :]\n",
        "        output = mask*output\n",
        "        \n",
        "        #output = mask*output#\n",
        "        # Compute the value of the loss for this batch. For loss functions like CrossEntropyLoss,\n",
        "        # the second argument is actually expected to be a tensor of class indices rather than\n",
        "        # one-hot encoded class labels. One approach is to take advantage of the one-hot encoding\n",
        "        # of the target and call argmax along its second dimension to create a tensor of shape\n",
        "        # (batch_size) containing the index of the class label that was hot for each sequence.\n",
        "        target = target.argmax(dim=1)\n",
        "        #print(output.shape, target.shape)\n",
        "        loss = criterion(output, target)  # Step ②\n",
        "\n",
        "        # Clear the gradient buffers of the optimized parameters.\n",
        "        # Otherwise, gradients from the previous batch would be accumulated.\n",
        "        optimizer.zero_grad()  # Step ③\n",
        "\n",
        "        loss.backward()  # Step ④\n",
        "\n",
        "        optimizer.step()  # Step ⑤\n",
        "\n",
        "        y_pred = output.argmax(dim=1)\n",
        "        num_correct += (y_pred == target).sum().item()\n",
        "    print(\":\", end=\"\", flush=True)\n",
        "    return num_correct, loss.item()"
      ]
    },
    {
      "cell_type": "code",
      "execution_count": 22,
      "metadata": {
        "id": "cdqZbCJtJ_fp"
      },
      "outputs": [],
      "source": [
        "def test(model, test_data_gen, criterion, device):\n",
        "    # Set the model to evaluation mode. This will turn off layers that would\n",
        "    # otherwise behave differently during training, such as dropout.\n",
        "    model.eval()\n",
        "\n",
        "    # Store the number of sequences that were classified correctly\n",
        "    num_correct = 0\n",
        "\n",
        "    # A context manager is used to disable gradient calculations during inference\n",
        "    # to reduce memory usage, as we typically don't need the gradients at this point.\n",
        "    with torch.no_grad():\n",
        "        for batch_idx in range(len(test_data_gen)):\n",
        "            data, target, mask = test_data_gen[batch_idx]\n",
        "            data, target, mask = torch.from_numpy(data).float().to(device), torch.from_numpy(target).float().to(device), torch.from_numpy(mask).float().to(device)\n",
        "\n",
        "            output = model(data)\n",
        "            # Pick only the output corresponding to last sequence element (input is pre padded)\n",
        "            output = output[:, -1, :]\n",
        "            output = mask * output\n",
        "            #output =mask*output\n",
        "            target = target.argmax(dim=1)\n",
        "            loss = criterion(output, target)\n",
        "\n",
        "            y_pred = output.argmax(dim=1)\n",
        "            num_correct += (y_pred == target).sum().item()\n",
        "\n",
        "    return num_correct, loss.item()"
      ]
    },
    {
      "cell_type": "code",
      "execution_count": 23,
      "metadata": {
        "id": "gMZztt_yKHRU"
      },
      "outputs": [],
      "source": [
        "import matplotlib.pyplot as plt\n",
        "#from res.plot_lib import set_default, plot_state, print_colourbar\n",
        "#set_default()"
      ]
    },
    {
      "cell_type": "code",
      "source": [
        "import numpy as np\n",
        "def getTrainGen():\n",
        "\n",
        "    from torch.utils.data import TensorDataset, DataLoader\n",
        "    import torch\n",
        "    setlen = 256\n",
        "    #print(\"len\",len(seqs))\n",
        "    np.random.shuffle(seqs)\n",
        "    numpieces = len(seqs)//setlen\n",
        "    longbit = numpieces*setlen\n",
        "    #print(\"pcs\",numpieces)\n",
        "    ##print(len(seqs))\n",
        "    #print(longbit)\n",
        "    seqs2,_ = np.split(seqs, [longbit])\n",
        "    output2,_ = np.split(output, [longbit])\n",
        "    relevant_train2,_ = np.split(relevant_train, [longbit])\n",
        "    seqs2 = np.split(seqs2,setlen)\n",
        "    output2 = np.split(output2, setlen)\n",
        "    relevant_train2 = np.split(relevant_train2, setlen)\n",
        "\n",
        "    #print(len(output2))\n",
        "    trainy = []\n",
        "    for i in range(setlen):\n",
        "       trainy.append((seqs2[i], output2[i], relevant_train2[i]))\n",
        "    return trainy\n"
      ],
      "metadata": {
        "id": "6yHcqhk6MGh2"
      },
      "execution_count": 59,
      "outputs": []
    },
    {
      "cell_type": "code",
      "execution_count": 54,
      "metadata": {
        "id": "VhGOCTWTKaiv"
      },
      "outputs": [],
      "source": [
        "def train_and_test(model, test_data_gen, criterion, optimizer, max_epochs, verbose=True):\n",
        "    # Automatically determine the device that PyTorch should use for computation\n",
        "    device = torch.device('cuda:0' if torch.cuda.is_available() else 'cpu')\n",
        "    print(\"On \", device)\n",
        "    # Move model to the device which will be used for train and test\n",
        "    model.to(device)\n",
        "\n",
        "    # Track the value of the loss function and model accuracy across epochs\n",
        "    history_train = {'loss': [], 'acc': []}\n",
        "    history_test = {'loss': [], 'acc': []}\n",
        "\n",
        "    for epoch in range(max_epochs):\n",
        "        # Run the training loop and calculate the accuracy.\n",
        "        # Remember that the length of a data generator is the number of batches,\n",
        "        # so we multiply it by the batch size to recover the total number of sequences.\n",
        "        train_data_gen = getTrainGen()\n",
        "        #train_data_gen.to(device)\n",
        "        num_correct, loss = train(model, train_data_gen, criterion, optimizer, device)\n",
        "        accuracy = float(num_correct) / (len(train_data_gen) ) #fixme\n",
        "        history_train['loss'].append(loss)\n",
        "        history_train['acc'].append(accuracy)\n",
        "\n",
        "        # Do the same for the testing loop\n",
        "        num_correct, loss = test(model, test_data_gen, criterion, device)\n",
        "        accuracy = float(num_correct) / (len(test_data_gen) ) #FIXME\n",
        "        history_test['loss'].append(loss)\n",
        "        history_test['acc'].append(accuracy)\n",
        "\n",
        "        print(f'\\n[Epoch {epoch + 1}/{max_epochs}]'\n",
        "                  f\" loss: {history_train['loss'][-1]:.4f}, acc: {history_train['acc'][-1]:2.2f}%\"\n",
        "                  f\" - test_loss: {history_test['loss'][-1]:.4f}, test_acc: {history_test['acc'][-1]:2.2f}%\")\n",
        "\n",
        "    # Generate diagnostic plots for the loss and accuracy\n",
        "    fig, axes = plt.subplots(ncols=2, figsize=(9, 4.5))\n",
        "    for ax, metric in zip(axes, ['loss', 'acc']):\n",
        "        ax.plot(history_train[metric])\n",
        "        ax.plot(history_test[metric])\n",
        "        ax.set_xlabel('epoch', fontsize=12)\n",
        "        ax.set_ylabel(metric, fontsize=12)\n",
        "        ax.legend(['Train', 'Test'], loc='best')\n",
        "    plt.show()\n",
        "\n",
        "    return model"
      ]
    },
    {
      "cell_type": "code",
      "execution_count": 50,
      "metadata": {
        "colab": {
          "base_uri": "https://localhost:8080/"
        },
        "id": "VHeSMbP0OVq-",
        "outputId": "529ce1b4-c578-4a59-cfb3-4983190ca5dd"
      },
      "outputs": [
        {
          "output_type": "stream",
          "name": "stdout",
          "text": [
            "17571\n",
            "68\n",
            "17571\n",
            "17408\n",
            "256\n"
          ]
        }
      ],
      "source": [
        "import numpy as np\n",
        "\n",
        "## Test\n",
        "\n",
        "setlen = 256\n",
        "print(len(seqs_test))\n",
        "numpieces = len(seqs_test)//setlen\n",
        "longbit = numpieces*setlen\n",
        "print(numpieces)\n",
        "print(len(seqs_test))\n",
        "print(longbit)\n",
        "seqs2,_ = np.split(seqs_test, [longbit])\n",
        "output2,_ = np.split(output_test, [longbit])\n",
        "relevant_train2,_ = np.split(relevant_train, [longbit])\n",
        "seqs2 = np.split(seqs2,setlen)\n",
        "output2 = np.split(output2, setlen)\n",
        "relevant_test2,_ = np.split(relevant_train2, [longbit])\n",
        "print(len(output2))\n",
        "testy = []\n",
        "for i in range(setlen):\n",
        "  testy.append((seqs2[i], output2[i], relevant_test2[i]))\n"
      ]
    },
    {
      "cell_type": "code",
      "execution_count": 60,
      "metadata": {
        "colab": {
          "base_uri": "https://localhost:8080/",
          "height": 1000
        },
        "id": "HKW0H1bgMAgq",
        "outputId": "022bdaf6-d9ef-4e95-e3aa-83ab2f14f897"
      },
      "outputs": [
        {
          "output_type": "stream",
          "name": "stdout",
          "text": [
            "Hidden size 3\n",
            "output size 698\n",
            "input size 21\n",
            "On  cuda:0\n",
            ","
          ]
        },
        {
          "output_type": "stream",
          "name": "stderr",
          "text": [
            "<ipython-input-56-9b4898c2f015>:51: UserWarning: Implicit dimension choice for softmax has been deprecated. Change the call to include dim=X as an argument.\n",
            "  x = s(x)\n"
          ]
        },
        {
          "output_type": "stream",
          "name": "stdout",
          "text": [
            ",,,,,,,,,,:\n",
            "[Epoch 1/15] loss: 6.0595, acc: 44.57% - test_loss: 6.1987, test_acc: 34.94%\n",
            ",,,,,,,,,,,:\n",
            "[Epoch 2/15] loss: 5.7323, acc: 158.19% - test_loss: 5.9434, test_acc: 37.57%\n",
            ",,,,,,,,,,,:\n",
            "[Epoch 3/15] loss: 5.4246, acc: 153.80% - test_loss: 5.7066, test_acc: 38.97%\n",
            ",,,,,,,,,,,:\n",
            "[Epoch 4/15] loss: 5.1306, acc: 142.36% - test_loss: 5.4844, test_acc: 42.42%\n",
            ",,,,,,,,,,,:\n",
            "[Epoch 5/15] loss: 4.8518, acc: 141.89% - test_loss: 5.2808, test_acc: 42.42%\n",
            ",,,,,,,,,,,:\n",
            "[Epoch 6/15] loss: 4.5829, acc: 141.89% - test_loss: 5.0915, test_acc: 42.42%\n",
            ",,,,,,,,,,,:\n",
            "[Epoch 7/15] loss: 4.3223, acc: 141.89% - test_loss: 4.9032, test_acc: 42.42%\n",
            ",,,,,,,,,,,:\n",
            "[Epoch 8/15] loss: 4.0708, acc: 141.91% - test_loss: 4.7297, test_acc: 42.42%\n",
            ",,,,,,,,,,,:\n",
            "[Epoch 9/15] loss: 3.8299, acc: 141.92% - test_loss: 4.5701, test_acc: 42.42%\n",
            ",,,,,,,,,,,:\n",
            "[Epoch 10/15] loss: 3.5940, acc: 135.13% - test_loss: 4.4077, test_acc: 43.06%\n",
            ",,,,,,,,,,,:\n",
            "[Epoch 11/15] loss: 3.3636, acc: 131.89% - test_loss: 4.2581, test_acc: 43.11%\n",
            ",,,,,,,,,,,:\n",
            "[Epoch 12/15] loss: 3.1466, acc: 131.84% - test_loss: 4.1193, test_acc: 43.11%\n",
            ",,,,,,,,,,,:\n",
            "[Epoch 13/15] loss: 2.9305, acc: 131.85% - test_loss: 3.9607, test_acc: 43.11%\n",
            ",,,,,,,,,,,:\n",
            "[Epoch 14/15] loss: 2.7273, acc: 131.88% - test_loss: 3.8614, test_acc: 43.11%\n",
            ",,,,,,,,,,,:\n",
            "[Epoch 15/15] loss: 2.5299, acc: 131.88% - test_loss: 3.7416, test_acc: 43.11%\n"
          ]
        },
        {
          "output_type": "display_data",
          "data": {
            "text/plain": [
              "<Figure size 900x450 with 2 Axes>"
            ],
            "image/png": "[encoded data removed]"
          },
          "metadata": {}
        }
      ],
      "source": [
        "input_size = 4128\n",
        "# Setup the RNN and training settings\n",
        "input_size  = 21 \n",
        "hidden_size = 3\n",
        "output_size = 698\n",
        "     #def __init__(self, input_size, llm_layers, llm_dropout, linear_hidden_size, n_linear, linear_dropout, output_size):\n",
        "model       = SimpleLSTM(21, 3, .3, 8, 10, .3, output_size)\n",
        "criterion   = torch.nn.CrossEntropyLoss()\n",
        "#criterion = torch.nn.MSELoss()#\n",
        "optimizer   = torch.optim.RMSprop(model.parameters(), lr=0.001)\n",
        "max_epochs  = 15\n",
        "\n",
        "# Train the model\n",
        "model = train_and_test(model, testy, criterion, optimizer, max_epochs, verbose=False)"
      ]
    },
    {
      "cell_type": "code",
      "execution_count": null,
      "metadata": {
        "id": "zDB4CkGFShQV"
      },
      "outputs": [],
      "source": [
        "torch.save(model, \"lstm-model-cel.pt\")"
      ]
    },
    {
      "cell_type": "code",
      "source": [
        "from __future__ import print_function\n",
        "from sys import getsizeof, stderr, getsizeof\n",
        "from itertools import chain\n",
        "from collections import deque\n",
        "try:\n",
        "    from reprlib import repr\n",
        "except ImportError:\n",
        "    pass\n",
        "\n",
        "def sizeof_fmt(num, suffix='B'):\n",
        "    ''' by Fred Cirera,  https://stackoverflow.com/a/1094933/1870254, modified'''\n",
        "    for unit in ['','Ki','Mi','Gi','Ti','Pi','Ei','Zi']:\n",
        "        if abs(num) < 1024.0:\n",
        "            return \"%3.1f %s%s\" % (num, unit, suffix)\n",
        "        num /= 1024.0\n",
        "    return \"%.1f %s%s\" % (num, 'Yi', suffix)\n",
        "\n",
        "def total_size(o, handlers={}, verbose=False):\n",
        "    \"\"\" Returns the approximate memory footprint an object and all of its contents.\n",
        "\n",
        "    Automatically finds the contents of the following builtin containers and\n",
        "    their subclasses:  tuple, list, deque, dict, set and frozenset.\n",
        "    To search other containers, add handlers to iterate over their contents:\n",
        "\n",
        "        handlers = {SomeContainerClass: iter,\n",
        "                    OtherContainerClass: OtherContainerClass.get_elements}\n",
        "\n",
        "    \"\"\"\n",
        "    dict_handler = lambda d: chain.from_iterable(d.items())\n",
        "    all_handlers = {tuple: iter,\n",
        "                    list: iter,\n",
        "                    deque: iter,\n",
        "                    dict: dict_handler,\n",
        "                    set: iter,\n",
        "                    frozenset: iter,\n",
        "                   }\n",
        "    all_handlers.update(handlers)     # user handlers take precedence\n",
        "    seen = set()                      # track which object id's have already been seen\n",
        "    default_size = getsizeof(0)       # estimate sizeof object without __sizeof__\n",
        "\n",
        "    def sizeof(o):\n",
        "        if id(o) in seen:       # do not double count the same object\n",
        "            return 0\n",
        "        seen.add(id(o))\n",
        "        s = getsizeof(o, default_size)\n",
        "\n",
        "        if verbose:\n",
        "            print(s, type(o), repr(o), file=stderr)\n",
        "\n",
        "        for typ, handler in all_handlers.items():\n",
        "            if isinstance(o, typ):\n",
        "                s += sum(map(sizeof, handler(o)))\n",
        "                break\n",
        "        return s\n",
        "\n",
        "    return sizeof(o)\n",
        "\n",
        "\n",
        "##### Example call #####\n",
        "\n",
        "for name, size in sorted(((name, total_size(value, verbose=False)) for name, value in list(\n",
        "                          locals().items())), key= lambda x: -x[1])[:20]:\n",
        "    print(\"{:>30}: {:>8}\".format(name, sizeof_fmt(size)))"
      ],
      "metadata": {
        "colab": {
          "base_uri": "https://localhost:8080/"
        },
        "id": "_2ZoEBRzO10E",
        "outputId": "fe1695c3-8843-4add-bbb4-61f930d49fb3"
      },
      "execution_count": 48,
      "outputs": [
        {
          "output_type": "stream",
          "name": "stdout",
          "text": [
            "                      metadata:  4.2 MiB\n",
            "                         testy: 114.1 KiB\n",
            "                           _ih: 51.0 KiB\n",
            "                            In: 51.0 KiB\n",
            "                         seqs2: 38.1 KiB\n",
            "                       output2: 34.1 KiB\n",
            "                          _i12:  4.6 KiB\n",
            "                          _i21:  4.6 KiB\n",
            "                          _i11:  2.4 KiB\n",
            "                          _i29:  2.4 KiB\n",
            "                          _i20:  2.4 KiB\n",
            "                          _i31:  2.4 KiB\n",
            "                           _ii:  2.3 KiB\n",
            "                          _i46:  2.3 KiB\n",
            "                          _i44:  2.3 KiB\n",
            "                          _i43:  2.3 KiB\n",
            "                          _i48:  2.2 KiB\n",
            "                          _i16:  2.1 KiB\n",
            "                          _i25:  2.1 KiB\n",
            "                          _i33:  2.0 KiB\n"
          ]
        }
      ]
    }
  ],
  "metadata": {
    "accelerator": "GPU",
    "colab": {
      "machine_shape": "hm",
      "provenance": []
    },
    "gpuClass": "standard",
    "kernelspec": {
      "display_name": "Python 3",
      "name": "python3"
    },
    "language_info": {
      "name": "python"
    }
  },
  "nbformat": 4,
  "nbformat_minor": 0
}